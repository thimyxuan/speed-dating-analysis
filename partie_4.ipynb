{
 "cells": [
  {
   "cell_type": "markdown",
   "metadata": {},
   "source": [
    "# PARTIE 4 : Conclusion et recommandations"
   ]
  },
  {
   "cell_type": "markdown",
   "metadata": {},
   "source": [
    "## Taux de matching faible\n",
    "\n",
    "- Sur l'ensemble de l'expérience, on observe que le nombre de match est relativement faible\n",
    "\n",
    "- Le taux de matching moyen est de 16,52% soit environ 1 speed dating sur 6 aboutit à un match\n",
    "\n",
    "- --> <ins>Peut-on améliorer le taux de matching et comment ?</ins>"
   ]
  },
  {
   "cell_type": "markdown",
   "metadata": {},
   "source": [
    "## Critères déterminants\n",
    "\n",
    "- L'attractivité et l'humour sont les qualités essentielles et déterminantes pour susciter l'envie d'avoir une seconde rencontre\n",
    "\n",
    "- L'analyse a permis de mettre en lumière d'autres facteurs pouvant influencer la décision finale"
   ]
  },
  {
   "cell_type": "markdown",
   "metadata": {},
   "source": [
    "## Autres facteurs d'influence"
   ]
  },
  {
   "cell_type": "markdown",
   "metadata": {},
   "source": [
    "### Facteurs intrinsèques\n",
    "\n",
    "- Avoir une perception juste de soi, un état d'esprit positif, un objectif bien déterminé, un style de vie actif et sociable influencent positivement la décision finale\n",
    "\n",
    "- Avoir une perception erronée de sa valeur, démarrer avec un état d'esprit négatif, ne pas savoir ce que l'on veut, mener un style de vie sédentaire et asocial diminuent l'attractivité"
   ]
  },
  {
   "cell_type": "markdown",
   "metadata": {},
   "source": [
    "### Facteurs démographiques\n",
    "\n",
    "- La différence d'âge a une influence sur la décision finale\n",
    "\n",
    "- Un écart d'âge faible augmente les chances de matcher. Un écart d'âge élevé diminue les chances de matcher\n",
    "\n",
    "- Partager la même origine ethnique augmente les chances de matcher\n",
    "\n",
    "- Être exigeant sur la religion diminue les chances de matcher"
   ]
  },
  {
   "cell_type": "markdown",
   "metadata": {},
   "source": [
    "### Facteurs extrinsèques\n",
    "\n",
    "- L'ordre de passage influence sur la décision finale\n",
    "\n",
    "- Passer en premier ou en dernier d'une série augmente ses chances de matcher\n",
    "\n",
    "- L'environnement peut influencer la décision finale (table où se déroulait le speed date)\n",
    "\n",
    "- Il y a plus de chance de matcher en hiver qu'en automne ou au printemps\n",
    "\n",
    "- Le nombre de personnes rencontrées et la durée influencent sur la décision finale\n",
    "\n",
    "- Avoir moins de choix et passer plus de temps sur chaque profil augmente ses chances de matcher"
   ]
  },
  {
   "cell_type": "markdown",
   "metadata": {},
   "source": [
    "## Recommandations\n",
    "\n",
    "### A. Le produit (l'application Tinder)\n",
    "\n",
    "1. Informer et conseiller les candidats sur le remplissage de leur profil\n",
    "- *\"Des photos de qualité augmentent les chances de matcher\"*\n",
    "- *\"Utilisez l'humour et l'auto-dérision pour vous décrire et présenter vos attentes\"*\n",
    "- *\"Renseigner un objectif augmente vos chances de matcher\"*\n",
    "- Proposer aux candidats des objectifs clairs et précis (ne pas proposer la réponse 'Je ne sais pas')    \n",
    "\n",
    "2. Introduire l'humour dans les profils\n",
    "- Exemple : Ajouter des informations sur le style d'humour apprécié\n",
    "- Exemple : Permettre de partager le \"meme\" du jour         \n",
    "\n",
    "3. Valoriser le sport dans les profils\n",
    "- Proposer une liste de sports pour faciliter le remplissage du profil\n",
    "- Permettre d'afficher ses données sportives (exemple : nombre de pas par jour)\n",
    "- Encourager les personnes à faire du sport\n",
    "- Partenariat avec des salles de sport (invitations, entrées gratuites, etc.)    \n",
    "\n",
    "4. Mettre en avant les centres d'intérêts\n",
    "- Inciter les personnes à renseigner leurs centres d'intérêt\n",
    "- Proposer une liste de centres d'intérêt pour faciliter le remplissage du profil    \n",
    "\n",
    "5. Garantir l'authenticité des profils\n",
    "- Mettre en place des solutions pour assurer l'authenticité des profils\n",
    "- Supprimer les faux profils    \n",
    "\n",
    "6. Encadrer le format\n",
    "- Limiter le nombre de profils disponibles à chaque session d'utilisation\n",
    "- Trouver le nombre optimal de profils par jour et/ou session d'utilisation  \n",
    "(Dans le cas de speed dating le format de 15 personnes rencontrées est celui qui donnait le plus de satisfaction)    \n",
    "\n",
    "### B. L'algorithme\n",
    "\n",
    "9. Mieux cibler les profils pouvant matcher ensemble\n",
    "- Proposer des profils ayant les mêmes centres d'intérêt\n",
    "- Proposer des profils de la même tranche d'âge\n",
    "- Proposer des profils avec la même origine\n",
    "- Ne pas mettre en avant la religion dans les profils    \n",
    "\n",
    "10. Varier la façon dont sont présentés les profils\n",
    "- Varier l'ordre d'apparition des profils pour donner la même chance à tous    \n",
    "\n",
    "### C. La communication\n",
    "\n",
    "11. Booster, motiver les candidats\n",
    "- Donner envie de faire des rencontres, trouver l'amour    \n",
    "\n",
    "12. Convaincre les utilisateurs du produit et de ses promesses\n",
    "- Témoignages, success stories\n",
    "- Donner des exemples de cas avec des personnes satisfaites et heureuses\n",
    "- Communiquer sur les bons résultats de l'application    \n",
    "\n",
    "13. Concentrer les efforts pendant la saison d'hiver\n",
    "- Maximiser les communications et les actions marketing en hiver\n",
    "- Amener plus de personnes sur l'application en hiver\n",
    "- Donner envie aux personnes de s'inscrire en hiver"
   ]
  },
  {
   "cell_type": "markdown",
   "metadata": {},
   "source": [
    "## Limites et améliorations"
   ]
  },
  {
   "cell_type": "markdown",
   "metadata": {},
   "source": [
    "### Limites\n",
    "\n",
    "- La différence de format entre un speed date et une rencontre en ligne\n",
    "\n",
    "- La difficulté d'appliquer les résultats d'un format donné à un autre format\n",
    "\n",
    "- Les facteurs décisifs pour une rencontre en personne ne sont pas forcément les mêmes pour une rencontre virtuelle\n",
    "\n",
    "- Le nombre de données n'est pas assez conséquent pour faire des statistiques\n",
    "\n",
    "- Le jeu de données initial présentent beaucoup de données manquantes\n",
    "\n",
    "- L'expérience se déroulait sur un campus universitaire américain et rassemblait majoritairement des étudiants\n",
    "\n",
    "- Le groupe étudié n'est pas représentatif de tous les utilisateurs d'application de rencontre\n",
    "\n",
    "### Améliorations\n",
    "\n",
    "- Interroger directement les utilisateurs d'application de rencontre\n",
    "\n",
    "- Augmenter le nombre d'expériences et de données récoltées\n",
    "\n",
    "- Diminuer les erreurs et les données manquantes\n",
    "\n",
    "- Raccourcir et simplifier le questionnaire\n",
    "\n",
    "- Supprimer les questions redondantes et inutiles"
   ]
  }
 ],
 "metadata": {
  "language_info": {
   "name": "python"
  }
 },
 "nbformat": 4,
 "nbformat_minor": 2
}
